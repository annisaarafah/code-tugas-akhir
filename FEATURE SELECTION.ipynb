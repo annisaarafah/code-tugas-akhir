{
 "cells": [
  {
   "cell_type": "code",
   "execution_count": 1,
   "id": "777582dc",
   "metadata": {},
   "outputs": [],
   "source": [
    "import pandas as pd\n",
    "import matplotlib as mpl\n",
    "import matplotlib.pyplot as plt\n",
    "import numpy as np\n",
    "\n",
    "import dill\n",
    "import pickle\n",
    "\n",
    "from niapy.algorithms.algorithm import Algorithm\n",
    "from niapy.util import levy_flight\n",
    "from niapy.algorithms.basic import CuckooSearch\n",
    "\n",
    "from sklearn.model_selection import train_test_split\n",
    "import numpy as np\n",
    "\n",
    "from sklearn.svm import SVC\n",
    "from sklearn.model_selection import cross_val_score\n",
    "from niapy.task import Task\n",
    "from niapy.algorithms.basic import CuckooSearch\n",
    "from sklearn.svm import SVC\n",
    "from sklearn.model_selection import cross_val_score\n",
    "from sklearn.metrics import accuracy_score\n",
    "from sklearn.model_selection import train_test_split, cross_val_score\n",
    "from sklearn.svm import SVC\n",
    "\n",
    "import logging\n",
    "\n",
    "from niapy.problems import Problem\n",
    "from niapy.task import Task\n",
    "\n",
    "\n",
    "import time\n",
    "from sklearn import datasets"
   ]
  },
  {
   "cell_type": "code",
   "execution_count": 3,
   "id": "09aad3bf",
   "metadata": {},
   "outputs": [],
   "source": [
    "df_train = pd.read_csv('trainsample_ROS2class.csv')\n",
    "df_test = pd.read_csv('data_test.csv')"
   ]
  },
  {
   "cell_type": "code",
   "execution_count": 4,
   "id": "d5c066fd",
   "metadata": {},
   "outputs": [],
   "source": [
    "\n",
    "X_train = df_train.drop('label', axis=1)\n",
    "y_train = df_train['label']\n",
    "\n",
    "\n",
    "X_test = df_test.drop('label', axis=1)\n",
    "y_test = df_test['label']"
   ]
  },
  {
   "cell_type": "code",
   "execution_count": 5,
   "id": "1f1551e6",
   "metadata": {},
   "outputs": [],
   "source": [
    "feature_names = X_train.columns.values"
   ]
  },
  {
   "cell_type": "code",
   "execution_count": 6,
   "id": "767fb237",
   "metadata": {},
   "outputs": [],
   "source": [
    "X_train = X_train.values\n",
    "y_train = y_train.values\n",
    "X_test = X_test.values\n",
    "y_test = y_test.values"
   ]
  },
  {
   "cell_type": "code",
   "execution_count": 7,
   "id": "19f594c3",
   "metadata": {},
   "outputs": [
    {
     "data": {
      "text/plain": [
       "array([[12.51414692, 13.73737411, 15.30228192, ..., 10.33516701,\n",
       "        16.63957106, 16.23505499],\n",
       "       [11.25307926, 12.33511117, 14.24391032, ...,  8.87651695,\n",
       "        15.01718249, 14.57031824],\n",
       "       [11.66906221, 12.20795994, 15.09771531, ...,  9.62735148,\n",
       "        16.89559658, 16.46998992],\n",
       "       ...,\n",
       "       [11.97333862, 12.60119044, 15.37174262, ...,  8.79181407,\n",
       "        16.87014313, 16.5983477 ],\n",
       "       [11.46964182, 11.75918081, 14.44468492, ...,  8.42584531,\n",
       "        15.0542609 , 14.26674263],\n",
       "       [12.74546425, 13.62749969, 15.84184441, ...,  9.40875431,\n",
       "        16.6441816 , 16.4650753 ]])"
      ]
     },
     "execution_count": 7,
     "metadata": {},
     "output_type": "execute_result"
    }
   ],
   "source": [
    "X_train"
   ]
  },
  {
   "cell_type": "code",
   "execution_count": 8,
   "id": "1da216d8",
   "metadata": {},
   "outputs": [
    {
     "data": {
      "text/plain": [
       "array([1, 1, 0, 1, 1, 1, 0, 1, 0, 1, 1, 1, 1, 1, 1, 1, 1, 0, 0, 1, 0, 0,\n",
       "       1, 1, 1, 1, 1, 1, 1, 1, 1, 1, 1, 1, 1, 1, 1, 1, 0, 1, 1, 1, 1, 0,\n",
       "       1, 1, 1, 1, 0, 0, 1, 0, 1, 1, 1, 1, 1, 1, 1, 1, 0, 1, 0, 1, 1, 1,\n",
       "       1, 0, 0, 1, 1, 0, 0, 1, 1, 1, 1, 1, 1, 1, 1, 0, 1, 1, 1, 1, 1, 1,\n",
       "       1, 1, 1, 1, 1, 1, 1, 1, 1, 1, 0, 0, 1, 1, 1, 1, 0, 1, 1, 1, 1, 0,\n",
       "       1, 0, 0, 1, 1, 1, 1, 1, 1, 1, 0, 1, 1, 1, 1, 1, 1, 1, 1, 1, 1, 1,\n",
       "       0, 1, 0, 0, 1, 1, 1, 1, 1, 1, 0, 1, 0, 1, 1, 0, 0, 0, 0, 1, 1, 0,\n",
       "       0, 1, 1, 1, 1, 1, 1, 0, 1, 1, 1, 1, 1, 1, 0, 0, 0, 0, 0, 0, 0, 0,\n",
       "       0, 0, 0, 0, 0, 0, 0, 0, 0, 0, 0, 0, 0, 0, 0, 0, 0, 0, 0, 0, 0, 0,\n",
       "       0, 0, 0, 0, 0, 0, 0, 0, 0, 0, 0, 0, 0, 0, 0, 0, 0, 0, 0, 0, 0, 0,\n",
       "       0, 0, 0, 0, 0, 0, 0, 0, 0, 0, 0, 0, 0, 0, 0, 0, 0, 0, 0, 0, 0, 0,\n",
       "       0, 0, 0, 0, 0, 0, 0, 0, 0, 0, 0, 0, 0, 0, 0, 0, 0, 0], dtype=int64)"
      ]
     },
     "execution_count": 8,
     "metadata": {},
     "output_type": "execute_result"
    }
   ],
   "source": [
    "y_train"
   ]
  },
  {
   "cell_type": "code",
   "execution_count": 9,
   "id": "218dfb7e",
   "metadata": {},
   "outputs": [],
   "source": [
    "class SVMRbfFeatureSelection(Problem):\n",
    "    def __init__(self, X_train, y_train, alpha=0.8):\n",
    "        super().__init__(dimension=X_train.shape[1], lower=0, upper=1)\n",
    "        self.X_train = X_train\n",
    "        self.y_train = y_train\n",
    "        self.fitness_curve = []\n",
    "        self.alpha = alpha\n",
    "\n",
    "    def _evaluate(self, x):\n",
    "        selected = x > 0.5\n",
    "        num_selected = selected.sum()\n",
    "        if num_selected == 0:\n",
    "            return 1.0\n",
    "        accuracy = cross_val_score(SVC(kernel=\"rbf\",), self.X_train[:, selected], self.y_train, cv=10, n_jobs=-1, scoring=\"accuracy\").mean()\n",
    "        score = 1 - accuracy\n",
    "        num_features = self.X_train.shape[1]\n",
    "        self.fitness_curve.append(self.alpha * score + (1 - self.alpha) * (num_selected / num_features))\n",
    "        \n",
    "        return (self.alpha * score) + (1 - self.alpha) * (num_selected / num_features)\n"
   ]
  },
  {
   "cell_type": "code",
   "execution_count": 10,
   "id": "0c1ab27f",
   "metadata": {},
   "outputs": [],
   "source": [
    "problem = SVMRbfFeatureSelection(X_train, y_train)\n",
    "# max_iters = 100\n",
    "task = Task(problem, max_iters = 10)\n",
    "algorithm = CuckooSearch(population_size=10, seed=1234)\n",
    "best_features, best_fitness = algorithm.run(task)"
   ]
  },
  {
   "cell_type": "code",
   "execution_count": 11,
   "id": "edac6d18",
   "metadata": {},
   "outputs": [
    {
     "name": "stdout",
     "output_type": "stream",
     "text": [
      "Number of selected features: 72\n",
      "Selected features: 200001_at, 200005_at, 200006_at, 200009_at, 200010_at, 200012_x_at, 200013_at, 200014_s_at, 200015_s_at, 200017_at, 200018_at, 200019_s_at, 200022_at, 200027_at, 200033_at, 200037_s_at, 200038_s_at, 200039_s_at, 200040_at, 200041_s_at, 200042_at, 200044_at, 200047_s_at, 200048_s_at, 200049_at, 200051_at, 200057_s_at, 200058_s_at, 200059_s_at, 200060_s_at, 200063_s_at, 200065_s_at, 200066_at, 200067_x_at, 200073_s_at, 200075_s_at, 200076_s_at, 200077_s_at, 200084_at, 200086_s_at, 200087_s_at, 200092_s_at, 200093_s_at, 200094_s_at, 200096_s_at, 200097_s_at, 200098_s_at, AFFX-BioB-5_at, AFFX-BioC-3_at, AFFX-BioDn-5_at, AFFX-CreX-3_at, AFFX-DapX-3_at, AFFX-HUMGAPDH/M33197_M_at, AFFX-HUMISGF3A/M97935_3_at, AFFX-HUMISGF3A/M97935_MA_at, AFFX-HUMRGE/M10098_3_at, AFFX-HUMRGE/M10098_M_at, AFFX-LysX-M_at, AFFX-M27830_5_at, AFFX-M27830_M_at, AFFX-ThrX-5_at, AFFX-ThrX-M_at, AFFX-r2-Bs-dap-5_at, AFFX-r2-Bs-phe-M_at, AFFX-r2-Bs-thr-M_s_at, AFFX-r2-Ec-bioC-3_at, AFFX-r2-Ec-bioD-3_at, AFFX-r2-Hs18SrRNA-5_at, AFFX-r2-Hs18SrRNA-M_x_at, AFFX-r2-Hs28SrRNA-5_at, AFFX-r2-P1-cre-3_at, AFFX-r2-P1-cre-5_at\n"
     ]
    }
   ],
   "source": [
    "selected_features = best_features > 0.5\n",
    "print('Number of selected features:', selected_features.sum())\n",
    "print('Selected features:', ', '.join(feature_names[selected_features].tolist()))"
   ]
  },
  {
   "cell_type": "code",
   "execution_count": 12,
   "id": "c0875132",
   "metadata": {},
   "outputs": [
    {
     "name": "stdout",
     "output_type": "stream",
     "text": [
      "['200001_at', '200005_at', '200006_at', '200009_at', '200010_at', '200012_x_at', '200013_at', '200014_s_at', '200015_s_at', '200017_at', '200018_at', '200019_s_at', '200022_at', '200027_at', '200033_at', '200037_s_at', '200038_s_at', '200039_s_at', '200040_at', '200041_s_at', '200042_at', '200044_at', '200047_s_at', '200048_s_at', '200049_at', '200051_at', '200057_s_at', '200058_s_at', '200059_s_at', '200060_s_at', '200063_s_at', '200065_s_at', '200066_at', '200067_x_at', '200073_s_at', '200075_s_at', '200076_s_at', '200077_s_at', '200084_at', '200086_s_at', '200087_s_at', '200092_s_at', '200093_s_at', '200094_s_at', '200096_s_at', '200097_s_at', '200098_s_at', 'AFFX-BioB-5_at', 'AFFX-BioC-3_at', 'AFFX-BioDn-5_at', 'AFFX-CreX-3_at', 'AFFX-DapX-3_at', 'AFFX-HUMGAPDH/M33197_M_at', 'AFFX-HUMISGF3A/M97935_3_at', 'AFFX-HUMISGF3A/M97935_MA_at', 'AFFX-HUMRGE/M10098_3_at', 'AFFX-HUMRGE/M10098_M_at', 'AFFX-LysX-M_at', 'AFFX-M27830_5_at', 'AFFX-M27830_M_at', 'AFFX-ThrX-5_at', 'AFFX-ThrX-M_at', 'AFFX-r2-Bs-dap-5_at', 'AFFX-r2-Bs-phe-M_at', 'AFFX-r2-Bs-thr-M_s_at', 'AFFX-r2-Ec-bioC-3_at', 'AFFX-r2-Ec-bioD-3_at', 'AFFX-r2-Hs18SrRNA-5_at', 'AFFX-r2-Hs18SrRNA-M_x_at', 'AFFX-r2-Hs28SrRNA-5_at', 'AFFX-r2-P1-cre-3_at', 'AFFX-r2-P1-cre-5_at']\n"
     ]
    }
   ],
   "source": [
    "print(feature_names[selected_features].tolist())"
   ]
  },
  {
   "cell_type": "code",
   "execution_count": 13,
   "id": "c73fd470",
   "metadata": {},
   "outputs": [],
   "source": [
    "pickle.dump(feature_names[selected_features].tolist(), open(\"selected_featuresROS2.pkl\", 'wb'))"
   ]
  },
  {
   "cell_type": "code",
   "execution_count": 14,
   "id": "aa366ac5",
   "metadata": {
    "scrolled": true
   },
   "outputs": [
    {
     "name": "stdout",
     "output_type": "stream",
     "text": [
      "Subset accuracy Best Feature > 0.5: 0.673076923076923\n",
      "Selected Features Accuracy: 0.6846153846153846\n"
     ]
    }
   ],
   "source": [
    "#Train Selected Features\n",
    "model_selected = SVC()\n",
    "\n",
    "model_selected.fit(X_train[:, selected_features], y_train)\n",
    "score_select = cross_val_score(model_selected,X_train[:, selected_features], y_train, scoring=\"accuracy\", cv=10, n_jobs=-1).mean()\n",
    "print('Subset accuracy Best Feature > 0.5:',score_select )\n",
    "\n",
    "print('Selected Features Accuracy:', model_selected.score(X_train[:, selected_features], y_train))"
   ]
  },
  {
   "cell_type": "code",
   "execution_count": 15,
   "id": "ae6a97fb",
   "metadata": {},
   "outputs": [
    {
     "name": "stdout",
     "output_type": "stream",
     "text": [
      "Subset accuracy all feature: 0.6384615384615385\n",
      "All Features Accuracy: 0.676923076923077\n"
     ]
    }
   ],
   "source": [
    "#Train All Features\n",
    "model_all = SVC()\n",
    "\n",
    "model_all.fit(X_train, y_train)\n",
    "score_all = cross_val_score( model_all, X_train, y_train, scoring=\"accuracy\", cv=10, n_jobs=-1).mean()\n",
    "print('Subset accuracy all feature:',score_all )\n",
    "\n",
    "print('All Features Accuracy:', model_all.score(X_train, y_train))"
   ]
  },
  {
   "cell_type": "code",
   "execution_count": 16,
   "id": "ae85380e",
   "metadata": {},
   "outputs": [
    {
     "data": {
      "text/plain": [
       "(array([0, 1, 2, 3, 4, 5, 6, 7, 8, 9]),\n",
       " array([0.37761905, 0.37622711, 0.37335165, 0.37335165, 0.3671978 ,\n",
       "        0.3671978 , 0.36620879, 0.34725275, 0.34725275, 0.34725275]))"
      ]
     },
     "execution_count": 16,
     "metadata": {},
     "output_type": "execute_result"
    }
   ],
   "source": [
    "task.convergence_data()"
   ]
  },
  {
   "cell_type": "code",
   "execution_count": 17,
   "id": "9a32c9e0",
   "metadata": {},
   "outputs": [
    {
     "data": {
      "text/plain": [
       "(array([0, 1, 2, 3, 4, 5, 6, 7, 8, 9]),\n",
       " array([0.37761905, 0.37622711, 0.37335165, 0.37335165, 0.3671978 ,\n",
       "        0.3671978 , 0.36620879, 0.34725275, 0.34725275, 0.34725275]))"
      ]
     },
     "execution_count": 17,
     "metadata": {},
     "output_type": "execute_result"
    }
   ],
   "source": [
    "convergence_data = task.convergence_data()\n",
    "convergence_data"
   ]
  },
  {
   "cell_type": "code",
   "execution_count": 18,
   "id": "f254bb3f",
   "metadata": {},
   "outputs": [],
   "source": [
    "pickle.dump(convergence_data, open(\"convergance_datarbfRROS2.pkl\", 'wb'))"
   ]
  },
  {
   "cell_type": "code",
   "execution_count": 19,
   "id": "07b57bb0",
   "metadata": {},
   "outputs": [
    {
     "data": {
      "image/png": "[encoded data removed]",
      "text/plain": [
       "<Figure size 432x288 with 1 Axes>"
      ]
     },
     "metadata": {
      "needs_background": "light"
     },
     "output_type": "display_data"
    }
   ],
   "source": [
    "task.plot_convergence()"
   ]
  },
  {
   "cell_type": "code",
   "execution_count": 20,
   "id": "c9569212",
   "metadata": {},
   "outputs": [],
   "source": [
    "class SVMpolyFeatureSelection(Problem):\n",
    "    def __init__(self, X_train, y_train, alpha=0.8):\n",
    "        super().__init__(dimension=X_train.shape[1], lower=0, upper=1)\n",
    "        self.X_train = X_train\n",
    "        self.y_train = y_train\n",
    "        self.fitness_curve = []\n",
    "        self.alpha = alpha\n",
    "\n",
    "    def _evaluate(self, x):\n",
    "        selected = x > 0.5\n",
    "        num_selected = selected.sum()\n",
    "        if num_selected == 0:\n",
    "            return 1.0\n",
    "        accuracy = cross_val_score(SVC(kernel=\"poly\",), self.X_train[:, selected], self.y_train, cv=10, n_jobs=-1, scoring=\"accuracy\").mean()\n",
    "        score = 1 - accuracy\n",
    "        num_features = self.X_train.shape[1]\n",
    "        self.fitness_curve.append(self.alpha * score + (1 - self.alpha) * (num_selected / num_features))\n",
    "        \n",
    "        return (self.alpha * score) + (1 - self.alpha) * (num_selected / num_features)"
   ]
  },
  {
   "cell_type": "code",
   "execution_count": 21,
   "id": "5e820290",
   "metadata": {},
   "outputs": [],
   "source": [
    "problem_poly = SVMpolyFeatureSelection(X_train, y_train)\n",
    "# max_iters = 100\n",
    "task_poly = Task(problem_poly, max_iters = 10)\n",
    "algorithm = CuckooSearch(population_size=10, seed=1234)\n",
    "best_features_poly, best_fitness_poly = algorithm.run(task_poly)"
   ]
  },
  {
   "cell_type": "code",
   "execution_count": 22,
   "id": "f37a62c6",
   "metadata": {},
   "outputs": [
    {
     "name": "stdout",
     "output_type": "stream",
     "text": [
      "Number of selected features: 77\n",
      "Selected features: 200000_s_at, 200005_at, 200006_at, 200008_s_at, 200012_x_at, 200013_at, 200014_s_at, 200015_s_at, 200017_at, 200019_s_at, 200020_at, 200021_at, 200023_s_at, 200024_at, 200030_s_at, 200032_s_at, 200034_s_at, 200035_at, 200038_s_at, 200039_s_at, 200040_at, 200041_s_at, 200042_at, 200043_at, 200044_at, 200046_at, 200047_s_at, 200048_s_at, 200050_at, 200053_at, 200055_at, 200058_s_at, 200059_s_at, 200064_at, 200065_s_at, 200068_s_at, 200070_at, 200072_s_at, 200078_s_at, 200081_s_at, 200083_at, 200084_at, 200085_s_at, 200086_s_at, 200088_x_at, 200090_at, 200093_s_at, 200098_s_at, 200099_s_at, AFFX-BioB-5_at, AFFX-BioB-M_at, AFFX-BioC-3_at, AFFX-CreX-3_at, AFFX-DapX-3_at, AFFX-DapX-M_at, AFFX-HSAC07/X00351_5_at, AFFX-HSAC07/X00351_M_at, AFFX-HUMGAPDH/M33197_3_at, AFFX-HUMGAPDH/M33197_5_at, AFFX-HUMISGF3A/M97935_5_at, AFFX-HUMISGF3A/M97935_MA_at, AFFX-HUMISGF3A/M97935_MB_at, AFFX-HUMRGE/M10098_5_at, AFFX-PheX-5_at, AFFX-ThrX-3_at, AFFX-ThrX-5_at, AFFX-ThrX-M_at, AFFX-TrpnX-3_at, AFFX-TrpnX-M_at, AFFX-hum_alu_at, AFFX-r2-Bs-lys-M_at, AFFX-r2-Bs-phe-3_at, AFFX-r2-Ec-bioB-3_at, AFFX-r2-Ec-bioC-3_at, AFFX-r2-Hs18SrRNA-5_at, AFFX-r2-Hs28SrRNA-5_at, AFFX-r2-Hs28SrRNA-M_at\n"
     ]
    }
   ],
   "source": [
    "selected_features_poly = best_features_poly > 0.5\n",
    "print('Number of selected features:', selected_features_poly.sum())\n",
    "print('Selected features:', ', '.join(feature_names[selected_features_poly].tolist()))"
   ]
  },
  {
   "cell_type": "code",
   "execution_count": 23,
   "id": "f38fc9ad",
   "metadata": {},
   "outputs": [],
   "source": [
    "pickle.dump(feature_names[selected_features_poly].tolist(), open(\"selected_featurespolyROS2.pkl\", 'wb'))"
   ]
  },
  {
   "cell_type": "code",
   "execution_count": 24,
   "id": "3405c0a5",
   "metadata": {},
   "outputs": [
    {
     "name": "stdout",
     "output_type": "stream",
     "text": [
      "Subset accuracy Best Feature > 0.5: 0.9692307692307693\n",
      "Selected Features Accuracy: 0.9846153846153847\n"
     ]
    }
   ],
   "source": [
    "#Train Selected Features\n",
    "model_selected_poly = SVC(kernel=\"poly\")\n",
    "\n",
    "model_selected_poly.fit(X_train[:, selected_features_poly], y_train)\n",
    "score_selected_poly = cross_val_score(model_selected_poly,X_train[:, selected_features_poly], y_train, scoring=\"accuracy\", cv=10, n_jobs=-1).mean()\n",
    "print('Subset accuracy Best Feature > 0.5:',score_selected_poly )\n",
    "\n",
    "print('Selected Features Accuracy:', model_selected_poly.score(X_train[:, selected_features_poly], y_train))"
   ]
  },
  {
   "cell_type": "code",
   "execution_count": 25,
   "id": "f3a2834c",
   "metadata": {},
   "outputs": [
    {
     "name": "stdout",
     "output_type": "stream",
     "text": [
      "Subset accuracy all feature: 0.9192307692307693\n",
      "All Features Accuracy: 0.9923076923076923\n"
     ]
    }
   ],
   "source": [
    "#Train All Features\n",
    "model_all_poly = SVC(kernel=\"poly\")\n",
    "\n",
    "model_all_poly.fit(X_train, y_train)\n",
    "score_all_poly = cross_val_score( model_all_poly, X_train, y_train, scoring=\"accuracy\", cv=10, n_jobs=-1).mean()\n",
    "print('Subset accuracy all feature:',score_all_poly )\n",
    "\n",
    "print('All Features Accuracy:', model_all_poly.score(X_train, y_train))"
   ]
  },
  {
   "cell_type": "code",
   "execution_count": 26,
   "id": "18e3d05a",
   "metadata": {},
   "outputs": [
    {
     "data": {
      "text/plain": [
       "(array([0, 1, 2, 3, 4, 5, 6, 7, 8, 9]),\n",
       " array([0.13454212, 0.13454212, 0.13454212, 0.13355311, 0.12838828,\n",
       "        0.12838828, 0.11628205, 0.11628205, 0.11628205, 0.11628205]))"
      ]
     },
     "execution_count": 26,
     "metadata": {},
     "output_type": "execute_result"
    }
   ],
   "source": [
    "task_poly.convergence_data()\n",
    "convergence_data_poly = task_poly.convergence_data()\n",
    "convergence_data_poly\n"
   ]
  },
  {
   "cell_type": "code",
   "execution_count": 27,
   "id": "4d7a52c1",
   "metadata": {},
   "outputs": [],
   "source": [
    "pickle.dump(convergence_data_poly, open(\"convergance_datapolyROS2.pkl\", 'wb'))"
   ]
  },
  {
   "cell_type": "code",
   "execution_count": 28,
   "id": "55d04515",
   "metadata": {},
   "outputs": [
    {
     "data": {
      "image/png": "[encoded data removed]",
      "text/plain": [
       "<Figure size 432x288 with 1 Axes>"
      ]
     },
     "metadata": {
      "needs_background": "light"
     },
     "output_type": "display_data"
    }
   ],
   "source": [
    "task_poly.plot_convergence()\n"
   ]
  },
  {
   "cell_type": "code",
   "execution_count": 29,
   "id": "665020ac",
   "metadata": {},
   "outputs": [],
   "source": [
    "class SVMlinearFeatureSelection(Problem):\n",
    "    def __init__(self, X_train, y_train, alpha=0.8):\n",
    "        super().__init__(dimension=X_train.shape[1], lower=0, upper=1)\n",
    "        self.X_train = X_train\n",
    "        self.y_train = y_train\n",
    "        self.fitness_curve = []\n",
    "        self.alpha = alpha\n",
    "\n",
    "    def _evaluate(self, x):\n",
    "        selected = x > 0.5\n",
    "        num_selected = selected.sum()\n",
    "        if num_selected == 0:\n",
    "            return 1.0\n",
    "        accuracy = cross_val_score(SVC(kernel=\"linear\",), self.X_train[:, selected], self.y_train, cv=10, n_jobs=-1, scoring=\"accuracy\").mean()\n",
    "        score = 1 - accuracy\n",
    "        num_features = self.X_train.shape[1]\n",
    "        self.fitness_curve.append(self.alpha * score + (1 - self.alpha) * (num_selected / num_features))\n",
    "        \n",
    "        return (self.alpha * score) + (1 - self.alpha) * (num_selected / num_features)"
   ]
  },
  {
   "cell_type": "code",
   "execution_count": 30,
   "id": "147943cd",
   "metadata": {},
   "outputs": [],
   "source": [
    "problem_linear = SVMlinearFeatureSelection(X_train, y_train)\n",
    "# max_iters = 100\n",
    "task_linear = Task(problem_linear, max_iters = 10)\n",
    "algorithm = CuckooSearch(population_size=10, seed=1234)\n",
    "best_features_linear, best_fitness_linear = algorithm.run(task_linear)"
   ]
  },
  {
   "cell_type": "code",
   "execution_count": 31,
   "id": "2cf069df",
   "metadata": {
    "scrolled": true
   },
   "outputs": [
    {
     "name": "stdout",
     "output_type": "stream",
     "text": [
      "Number of selected features: 85\n",
      "Selected features: 200000_s_at, 200001_at, 200002_at, 200004_at, 200005_at, 200006_at, 200008_s_at, 200012_x_at, 200013_at, 200017_at, 200019_s_at, 200020_at, 200024_at, 200025_s_at, 200027_at, 200030_s_at, 200031_s_at, 200032_s_at, 200034_s_at, 200035_at, 200036_s_at, 200037_s_at, 200040_at, 200041_s_at, 200043_at, 200045_at, 200048_s_at, 200052_s_at, 200053_at, 200055_at, 200056_s_at, 200058_s_at, 200059_s_at, 200062_s_at, 200063_s_at, 200070_at, 200072_s_at, 200073_s_at, 200076_s_at, 200081_s_at, 200082_s_at, 200084_at, 200085_s_at, 200087_s_at, 200088_x_at, 200089_s_at, 200090_at, 200091_s_at, 200093_s_at, 200094_s_at, 200095_x_at, 200097_s_at, AFFX-BioC-3_at, AFFX-BioDn-5_at, AFFX-CreX-5_at, AFFX-DapX-5_at, AFFX-DapX-M_at, AFFX-HSAC07/X00351_3_at, AFFX-HSAC07/X00351_5_at, AFFX-HUMGAPDH/M33197_3_at, AFFX-HUMGAPDH/M33197_5_at, AFFX-HUMISGF3A/M97935_MA_at, AFFX-HUMISGF3A/M97935_MB_at, AFFX-HUMRGE/M10098_3_at, AFFX-HUMRGE/M10098_5_at, AFFX-PheX-3_at, AFFX-ThrX-3_at, AFFX-ThrX-5_at, AFFX-TrpnX-5_at, AFFX-TrpnX-M_at, AFFX-hum_alu_at, AFFX-r2-Bs-phe-3_at, AFFX-r2-Bs-thr-3_s_at, AFFX-r2-Bs-thr-5_s_at, AFFX-r2-Bs-thr-M_s_at, AFFX-r2-Ec-bioB-3_at, AFFX-r2-Ec-bioC-5_at, AFFX-r2-Ec-bioD-5_at, AFFX-r2-Hs18SrRNA-5_at, AFFX-r2-Hs18SrRNA-M_x_at, AFFX-r2-Hs28SrRNA-3_at, AFFX-r2-Hs28SrRNA-5_at, AFFX-r2-Hs28SrRNA-M_at, AFFX-r2-P1-cre-3_at, AFFX-r2-P1-cre-5_at\n"
     ]
    }
   ],
   "source": [
    "selected_features_linear = best_features_linear > 0.5\n",
    "print('Number of selected features:', selected_features_linear.sum())\n",
    "print('Selected features:', ', '.join(feature_names[selected_features_linear].tolist()))"
   ]
  },
  {
   "cell_type": "code",
   "execution_count": 32,
   "id": "5c9d8ae0",
   "metadata": {},
   "outputs": [],
   "source": [
    "pickle.dump(feature_names[selected_features_linear].tolist(), open(\"selected_featureslinearROS2.pkl\", 'wb'))"
   ]
  },
  {
   "cell_type": "code",
   "execution_count": 33,
   "id": "a71024ad",
   "metadata": {},
   "outputs": [
    {
     "name": "stdout",
     "output_type": "stream",
     "text": [
      "Subset accuracy Best Feature > 0.5: 0.976923076923077\n",
      "Selected Features Accuracy: 0.9923076923076923\n"
     ]
    }
   ],
   "source": [
    "model_selected_linear = SVC(kernel=\"linear\")\n",
    "\n",
    "model_selected_linear.fit(X_train[:, selected_features_linear], y_train)\n",
    "score_selected_linear = cross_val_score(model_selected_linear,X_train[:, selected_features_linear], y_train, scoring=\"accuracy\", cv=10, n_jobs=-1).mean()\n",
    "print('Subset accuracy Best Feature > 0.5:',score_selected_linear )\n",
    "\n",
    "print('Selected Features Accuracy:', model_selected_linear.score(X_train[:, selected_features_linear], y_train))"
   ]
  },
  {
   "cell_type": "code",
   "execution_count": 34,
   "id": "7399e10d",
   "metadata": {},
   "outputs": [
    {
     "name": "stdout",
     "output_type": "stream",
     "text": [
      "Subset accuracy all feature: 0.9423076923076923\n",
      "All Features Accuracy: 1.0\n"
     ]
    }
   ],
   "source": [
    "#Train All Features\n",
    "model_all_linear = SVC(kernel=\"linear\")\n",
    "\n",
    "model_all_linear.fit(X_train, y_train)\n",
    "score_all_linear = cross_val_score( model_all_linear, X_train, y_train, scoring=\"accuracy\", cv=10, n_jobs=-1).mean()\n",
    "print('Subset accuracy all feature:',score_all_linear )\n",
    "\n",
    "print('All Features Accuracy:', model_all_linear.score(X_train, y_train))"
   ]
  },
  {
   "cell_type": "code",
   "execution_count": 35,
   "id": "c1ac1296",
   "metadata": {},
   "outputs": [
    {
     "data": {
      "text/plain": [
       "(array([0, 1, 2, 3, 4, 5, 6, 7, 8, 9]),\n",
       " array([0.13027473, 0.13027473, 0.12699634, 0.12531136, 0.12531136,\n",
       "        0.12531136, 0.12531136, 0.11965201, 0.11965201, 0.11965201]))"
      ]
     },
     "execution_count": 35,
     "metadata": {},
     "output_type": "execute_result"
    }
   ],
   "source": [
    "task_linear.convergence_data()"
   ]
  },
  {
   "cell_type": "code",
   "execution_count": 36,
   "id": "48c0ab46",
   "metadata": {},
   "outputs": [],
   "source": [
    "convergence_data_linear = task_linear.convergence_data()\n",
    "pickle.dump(convergence_data_linear, open(\"convergance_datalinear2.pkl\", 'wb'))"
   ]
  },
  {
   "cell_type": "code",
   "execution_count": 37,
   "id": "a1578683",
   "metadata": {},
   "outputs": [
    {
     "data": {
      "image/png": "[encoded data removed]",
      "text/plain": [
       "<Figure size 432x288 with 1 Axes>"
      ]
     },
     "metadata": {
      "needs_background": "light"
     },
     "output_type": "display_data"
    }
   ],
   "source": [
    "task_linear.plot_convergence()"
   ]
  },
  {
   "cell_type": "code",
   "execution_count": 38,
   "id": "60b217d6",
   "metadata": {},
   "outputs": [],
   "source": [
    "rbf_conv_iterate = convergence_data[0]\n",
    "rbf_conv = convergence_data[1]\n",
    "poly_conv_iterate = convergence_data_poly[0]\n",
    "poly_conv = convergence_data_poly[1]\n",
    "linear_conv_iterate = convergence_data_linear[0]\n",
    "linear_conv = convergence_data_linear[1]"
   ]
  },
  {
   "cell_type": "code",
   "execution_count": 40,
   "id": "73df96b1",
   "metadata": {},
   "outputs": [
    {
     "data": {
      "image/png": "[encoded data removed]",
      "text/plain": [
       "<Figure size 864x576 with 1 Axes>"
      ]
     },
     "metadata": {
      "needs_background": "light"
     },
     "output_type": "display_data"
    }
   ],
   "source": [
    "plt.figure(figsize=(12,8))\n",
    "plt.plot(rbf_conv_iterate, rbf_conv, color='red', label='rbf')\n",
    "plt.plot(poly_conv_iterate, poly_conv, color='green', label='poly')\n",
    "plt.plot(linear_conv_iterate,linear_conv, color='blue', label='linear' )\n",
    "plt.title('Perbandingan Convergance Antar Kernel')\n",
    "plt.xlim(rbf_conv_iterate[0],rbf_conv_iterate[-1])\n",
    "plt.legend()\n",
    "plt.grid()\n",
    "plt.xlabel('Iterasi')\n",
    "plt.ylabel('Convergence')\n",
    "plt.savefig('hasilcode\\komparasi_convergence.png', format='png', dpi=150)\n",
    "plt.show()"
   ]
  },
  {
   "cell_type": "code",
   "execution_count": null,
   "id": "7e7c0c47",
   "metadata": {},
   "outputs": [],
   "source": []
  }
 ],
 "metadata": {
  "kernelspec": {
   "display_name": "Python 3",
   "language": "python",
   "name": "python3"
  },
  "language_info": {
   "codemirror_mode": {
    "name": "ipython",
    "version": 3
   },
   "file_extension": ".py",
   "mimetype": "text/x-python",
   "name": "python",
   "nbconvert_exporter": "python",
   "pygments_lexer": "ipython3",
   "version": "3.9.1"
  }
 },
 "nbformat": 4,
 "nbformat_minor": 5
}
