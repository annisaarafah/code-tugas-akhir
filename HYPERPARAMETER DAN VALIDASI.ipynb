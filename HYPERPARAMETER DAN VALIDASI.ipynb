{
 "cells": [
  {
   "cell_type": "code",
   "execution_count": 1,
   "id": "d1c9162b",
   "metadata": {},
   "outputs": [],
   "source": [
    "import pandas as pd\n",
    "import numpy as np\n",
    "from sklearn.svm import SVC\n",
    "from sklearn.model_selection import GridSearchCV, cross_val_score, cross_validate, KFold \n",
    "import numpy as np\n",
    "import pickle\n",
    "import joblib\n",
    "import matplotlib.pyplot as plt\n",
    "from sklearn.metrics import classification_report, ConfusionMatrixDisplay, confusion_matrix, roc_auc_score, recall_score, f1_score, precision_score, accuracy_score\n"
   ]
  },
  {
   "cell_type": "code",
   "execution_count": 2,
   "id": "c8eca2cd",
   "metadata": {},
   "outputs": [],
   "source": [
    "data_train = pd.read_csv('trainsample_ROS2class.csv')\n",
    "data_test = pd.read_csv('data_test.csv')\n",
    "with open('selected_featuresROS2.pkl', 'rb') as file:\n",
    "    sf_rbf = pickle.load(file)\n",
    "with open('selected_featurespolyROS2.pkl', 'rb') as file:\n",
    "    sf_poly = pickle.load(file)\n",
    "with open('selected_featureslinearROS2.pkl', 'rb') as file:\n",
    "    sf_linear = pickle.load(file)"
   ]
  },
  {
   "cell_type": "code",
   "execution_count": 3,
   "id": "286b5a66",
   "metadata": {},
   "outputs": [],
   "source": [
    "X_train = data_train.drop('label', axis = 1)\n",
    "y_train = data_train['label']"
   ]
  },
  {
   "cell_type": "code",
   "execution_count": 4,
   "id": "d5c602ad",
   "metadata": {},
   "outputs": [],
   "source": [
    "X_train_poly = X_train[sf_poly]\n",
    "X_train_rbf = X_train[sf_rbf]\n",
    "X_train_linear = X_train[sf_linear]"
   ]
  },
  {
   "cell_type": "code",
   "execution_count": 5,
   "id": "fb5aec68",
   "metadata": {},
   "outputs": [],
   "source": [
    "X_test = data_test.drop('label', axis = 1)\n",
    "y_test = data_test['label']"
   ]
  },
  {
   "cell_type": "code",
   "execution_count": 6,
   "id": "2f56e7b4",
   "metadata": {},
   "outputs": [],
   "source": [
    "X_test_poly = X_test[sf_poly]\n",
    "X_test_rbf = X_test[sf_rbf]\n",
    "X_test_linear = X_test[sf_linear]"
   ]
  },
  {
   "cell_type": "code",
   "execution_count": 7,
   "id": "5c8ebdd9",
   "metadata": {},
   "outputs": [
    {
     "name": "stdout",
     "output_type": "stream",
     "text": [
      "Best Params rbf {'C': 100, 'degree': 2, 'gamma': 'auto', 'kernel': 'rbf'}\n",
      "Score:  0.9423076923076923\n"
     ]
    }
   ],
   "source": [
    "param_grid = {'C': [0.001, 0.01, 0.1, 1, 10, 100,1000],\n",
    "              'gamma':  ['scale', 'auto'],\n",
    "              'degree' : [2, 3, 4, 5], \n",
    "              'kernel': ['rbf']}\n",
    "\n",
    "grid_rbf = GridSearchCV(SVC(), param_grid, refit=True,cv=10, scoring='accuracy')\n",
    "\n",
    "grid_rbf.fit(X_train_rbf, y_train)\n",
    "pickle.dump(grid_rbf.best_estimator_, open(\"grid_rbfROS.best_estimator2.pkl\", 'wb'))\n",
    "\n",
    "print('Best Params rbf', grid_rbf.best_params_)\n",
    "\n",
    "# kfold = KFold(n_splits=10, shuffle=True, random_state = 5)\n",
    "\n",
    "score_rbf = cross_val_score(grid_rbf.best_estimator_, X_train_rbf, y_train, cv=10, scoring='accuracy')\n",
    "score_rbf = np.average(score_rbf)\n",
    "\n",
    "print('Score: ',score_rbf)"
   ]
  },
  {
   "cell_type": "code",
   "execution_count": 9,
   "id": "f78a9134",
   "metadata": {},
   "outputs": [
    {
     "data": {
      "text/plain": [
       "0.673076923076923"
      ]
     },
     "execution_count": 9,
     "metadata": {},
     "output_type": "execute_result"
    }
   ],
   "source": [
    "model = SVC(kernel='rbf')\n",
    "# kfold = KFold(n_splits=10, shuffle= True, random_state = 5)\n",
    "\n",
    "score_rbf_before = cross_val_score(model, X_train_rbf, y_train, cv=10, scoring='accuracy')\n",
    "score_rbf_before = np.average(score_rbf_before)\n",
    "score_rbf_before"
   ]
  },
  {
   "cell_type": "code",
   "execution_count": 10,
   "id": "eaed45fa",
   "metadata": {},
   "outputs": [
    {
     "data": {
      "text/plain": [
       "0.9423076923076923"
      ]
     },
     "execution_count": 10,
     "metadata": {},
     "output_type": "execute_result"
    }
   ],
   "source": [
    "model = SVC(kernel='rbf', C = 100, degree =  2, gamma = 'auto')\n",
    "kfold = KFold(n_splits=10, shuffle= True, random_state = 5)\n",
    "\n",
    "score_rbf_after = cross_val_score(model, X_train_rbf, y_train, cv=10, scoring='accuracy')\n",
    "score_rbf_after = np.average(score_rbf_after)\n",
    "score_rbf_after"
   ]
  },
  {
   "cell_type": "code",
   "execution_count": 13,
   "id": "fbf9712e",
   "metadata": {},
   "outputs": [
    {
     "name": "stdout",
     "output_type": "stream",
     "text": [
      "Best Params linear {'C': 1, 'degree': 2, 'gamma': 'scale', 'kernel': 'linear'}\n",
      "Score:  0.976923076923077\n"
     ]
    }
   ],
   "source": [
    "param_grid = {'C': [0.001, 0.01, 0.1, 1, 10, 100,1000],\n",
    "              'gamma':  ['scale', 'auto'],\n",
    "              'degree' : [2, 3, 4, 5], \n",
    "              'kernel': ['linear']}\n",
    "\n",
    "grid_linear = GridSearchCV(SVC(), param_grid, refit=True, cv=10, scoring='accuracy')\n",
    "\n",
    "grid_linear.fit(X_train_linear, y_train)\n",
    "pickle.dump(grid_linear.best_estimator_, open(\"grid_linearROS.best_estimator2.pkl\", 'wb'))\n",
    "\n",
    "print('Best Params linear', grid_linear.best_params_)\n",
    "\n",
    "# kfold = KFold(n_splits=10, shuffle=True, random_state = 5)\n",
    "\n",
    "score_linear = cross_val_score(grid_linear.best_estimator_, X_train_linear, y_train, cv=10, scoring='accuracy')\n",
    "score_linear = np.average(score_linear)\n",
    "\n",
    "print('Score: ',score_linear)"
   ]
  },
  {
   "cell_type": "code",
   "execution_count": 15,
   "id": "99c6564d",
   "metadata": {},
   "outputs": [
    {
     "data": {
      "text/plain": [
       "0.976923076923077"
      ]
     },
     "execution_count": 15,
     "metadata": {},
     "output_type": "execute_result"
    }
   ],
   "source": [
    "model = SVC(kernel='linear')\n",
    "# kfold = KFold(n_splits=10, shuffle= True, random_state = 5)\n",
    "\n",
    "score_linear_before = cross_val_score(model, X_train_linear, y_train, cv=10, scoring='accuracy')\n",
    "score_linear_before = np.average(score_linear_before)\n",
    "score_linear_before"
   ]
  },
  {
   "cell_type": "code",
   "execution_count": 16,
   "id": "8ec262f3",
   "metadata": {},
   "outputs": [
    {
     "data": {
      "text/plain": [
       "0.976923076923077"
      ]
     },
     "execution_count": 16,
     "metadata": {},
     "output_type": "execute_result"
    }
   ],
   "source": [
    "model = SVC(kernel='linear', C = 1, degree =  2, gamma = 'scale')\n",
    "kfold = KFold(n_splits=10, shuffle= True, random_state = 5)\n",
    "\n",
    "score_linear_after = cross_val_score(model, X_train_linear, y_train, cv=10, scoring='accuracy')\n",
    "score_linear_after = np.average(score_linear_after)\n",
    "score_linear_after"
   ]
  },
  {
   "cell_type": "code",
   "execution_count": 19,
   "id": "c06b5c30",
   "metadata": {},
   "outputs": [
    {
     "name": "stdout",
     "output_type": "stream",
     "text": [
      "Best Params polynomial {'C': 0.001, 'degree': 3, 'gamma': 'auto', 'kernel': 'poly'}\n",
      "Score:  0.9692307692307693\n"
     ]
    }
   ],
   "source": [
    "param_grid = {'C': [0.001, 0.01, 0.1, 1, 10, 100,1000],\n",
    "              'gamma':  ['scale', 'auto'],\n",
    "              'degree' : [2, 3, 4, 5], \n",
    "              'kernel': ['poly']}\n",
    "\n",
    "grid_poly = GridSearchCV(SVC(), param_grid, refit=True, cv=10, scoring='accuracy')\n",
    "\n",
    "grid_poly.fit(X_train_poly, y_train)\n",
    "pickle.dump(grid_poly.best_estimator_, open(\"grid_polyROS.best_estimator2.pkl\", 'wb'))\n",
    "\n",
    "print('Best Params polynomial', grid_poly.best_params_)\n",
    "\n",
    "# kfold = KFold(n_splits=10, shuffle=True, random_state = 5)\n",
    "\n",
    "score_poly = cross_val_score(grid_poly.best_estimator_, X_train_poly, y_train, cv=10, scoring='accuracy')\n",
    "score_poly = np.average(score_poly)\n",
    "\n",
    "print('Score: ',score_poly)"
   ]
  },
  {
   "cell_type": "code",
   "execution_count": 21,
   "id": "5725569f",
   "metadata": {},
   "outputs": [
    {
     "data": {
      "text/plain": [
       "0.9692307692307693"
      ]
     },
     "execution_count": 21,
     "metadata": {},
     "output_type": "execute_result"
    }
   ],
   "source": [
    "model = SVC(kernel='poly')\n",
    "# kfold = KFold(n_splits=10, shuffle= True, random_state = 5)\n",
    "\n",
    "score_poly_before = cross_val_score(model, X_train_poly, y_train, cv=10, scoring='accuracy')\n",
    "score_poly_before = np.average(score_poly_before)\n",
    "score_poly_before"
   ]
  },
  {
   "cell_type": "code",
   "execution_count": 22,
   "id": "82008831",
   "metadata": {},
   "outputs": [
    {
     "data": {
      "text/plain": [
       "0.9692307692307693"
      ]
     },
     "execution_count": 22,
     "metadata": {},
     "output_type": "execute_result"
    }
   ],
   "source": [
    "model = SVC(kernel='poly', C = 0.001, degree =  3, gamma = 'auto')\n",
    "# kfold = KFold(n_splits=10, shuffle= True, random_state = 5)\n",
    "\n",
    "score_poly_after = cross_val_score(model, X_train_poly, y_train, cv=10, scoring='accuracy')\n",
    "score_poly_after = np.average(score_poly_after)\n",
    "score_poly_after"
   ]
  },
  {
   "cell_type": "code",
   "execution_count": 31,
   "id": "7e384601",
   "metadata": {},
   "outputs": [
    {
     "name": "stdout",
     "output_type": "stream",
     "text": [
      "Accuracy: 1.0\n",
      "F1 score: 1.0\n",
      "Recall: 1.0\n",
      "Precision: 1.0\n",
      "\n",
      " clasification report:\n",
      "               precision    recall  f1-score   support\n",
      "\n",
      "           0       1.00      1.00      1.00       130\n",
      "           1       1.00      1.00      1.00       130\n",
      "\n",
      "    accuracy                           1.00       260\n",
      "   macro avg       1.00      1.00      1.00       260\n",
      "weighted avg       1.00      1.00      1.00       260\n",
      "\n",
      "\n",
      " confussion matrix:\n",
      " [[130   0]\n",
      " [  0 130]]\n"
     ]
    }
   ],
   "source": [
    "best_estimator_rbf = joblib.load(\"grid_rbfROS.best_estimator2.pkl\")\n",
    "y_train_pred_rbf = best_estimator_rbf.predict(X_train_rbf)\n",
    "\n",
    "\n",
    "\n",
    "\n",
    "from sklearn.metrics import precision_score, \\\n",
    "    recall_score, confusion_matrix, classification_report, \\\n",
    "    accuracy_score, f1_score\n",
    "\n",
    "print('Accuracy:', accuracy_score(y_train, y_train_pred_rbf))\n",
    "print('F1 score:', f1_score(y_train, y_train_pred_rbf))\n",
    "print('Recall:', recall_score(y_train, y_train_pred_rbf))\n",
    "print('Precision:', precision_score(y_train, y_train_pred_rbf))\n",
    "print('\\n clasification report:\\n', classification_report(y_train,y_train_pred_rbf))\n",
    "print('\\n confussion matrix:\\n',confusion_matrix(y_train, y_train_pred_rbf))"
   ]
  },
  {
   "cell_type": "code",
   "execution_count": 32,
   "id": "2371954c",
   "metadata": {},
   "outputs": [
    {
     "name": "stdout",
     "output_type": "stream",
     "text": [
      "Accuracy: 0.8095238095238095\n",
      "F1 score: 0.8787878787878787\n",
      "Recall: 0.90625\n",
      "Precision: 0.8529411764705882\n",
      "\n",
      " clasification report:\n",
      "               precision    recall  f1-score   support\n",
      "\n",
      "           0       0.62      0.50      0.56        10\n",
      "           1       0.85      0.91      0.88        32\n",
      "\n",
      "    accuracy                           0.81        42\n",
      "   macro avg       0.74      0.70      0.72        42\n",
      "weighted avg       0.80      0.81      0.80        42\n",
      "\n",
      "\n",
      " confussion matrix:\n",
      " [[ 5  5]\n",
      " [ 3 29]]\n"
     ]
    }
   ],
   "source": [
    "best_estimator_rbf = joblib.load(\"grid_rbfROS.best_estimator2.pkl\")\n",
    "y_test_pred_rbf = best_estimator_rbf.predict(X_test_rbf)\n",
    "\n",
    "from sklearn.metrics import precision_score, \\\n",
    "    recall_score, confusion_matrix, classification_report, \\\n",
    "    accuracy_score, f1_score\n",
    "\n",
    "print('Accuracy:', accuracy_score(y_test, y_test_pred_rbf))\n",
    "print('F1 score:', f1_score(y_test, y_test_pred_rbf))\n",
    "print('Recall:', recall_score(y_test, y_test_pred_rbf))\n",
    "print('Precision:', precision_score(y_test, y_test_pred_rbf))\n",
    "print('\\n clasification report:\\n', classification_report(y_test,y_test_pred_rbf))\n",
    "print('\\n confussion matrix:\\n',confusion_matrix(y_test, y_test_pred_rbf))"
   ]
  },
  {
   "cell_type": "code",
   "execution_count": 33,
   "id": "8cb0b038",
   "metadata": {},
   "outputs": [
    {
     "name": "stdout",
     "output_type": "stream",
     "text": [
      "Accuracy: 0.9884615384615385\n",
      "F1 score: 0.9884169884169884\n",
      "Recall: 0.9846153846153847\n",
      "Precision: 0.9922480620155039\n",
      "\n",
      " clasification report:\n",
      "               precision    recall  f1-score   support\n",
      "\n",
      "           0       0.98      0.99      0.99       130\n",
      "           1       0.99      0.98      0.99       130\n",
      "\n",
      "    accuracy                           0.99       260\n",
      "   macro avg       0.99      0.99      0.99       260\n",
      "weighted avg       0.99      0.99      0.99       260\n",
      "\n",
      "\n",
      " confussion matrix:\n",
      " [[129   1]\n",
      " [  2 128]]\n"
     ]
    }
   ],
   "source": [
    "best_estimator_poly = joblib.load(\"grid_polyROS.best_estimator2.pkl\")\n",
    "y_train_pred_poly = best_estimator_poly.predict(X_train_poly)\n",
    "\n",
    "\n",
    "\n",
    "\n",
    "from sklearn.metrics import precision_score, \\\n",
    "    recall_score, confusion_matrix, classification_report, \\\n",
    "    accuracy_score, f1_score\n",
    "\n",
    "print('Accuracy:', accuracy_score(y_train, y_train_pred_poly))\n",
    "print('F1 score:', f1_score(y_train, y_train_pred_poly))\n",
    "print('Recall:', recall_score(y_train, y_train_pred_poly))\n",
    "print('Precision:', precision_score(y_train, y_train_pred_poly))\n",
    "print('\\n clasification report:\\n', classification_report(y_train,y_train_pred_poly))\n",
    "print('\\n confussion matrix:\\n',confusion_matrix(y_train, y_train_pred_poly))"
   ]
  },
  {
   "cell_type": "code",
   "execution_count": 34,
   "id": "360494a4",
   "metadata": {},
   "outputs": [
    {
     "name": "stdout",
     "output_type": "stream",
     "text": [
      "Accuracy: 0.7619047619047619\n",
      "F1 score: 0.8333333333333334\n",
      "Recall: 0.78125\n",
      "Precision: 0.8928571428571429\n",
      "\n",
      " clasification report:\n",
      "               precision    recall  f1-score   support\n",
      "\n",
      "           0       0.50      0.70      0.58        10\n",
      "           1       0.89      0.78      0.83        32\n",
      "\n",
      "    accuracy                           0.76        42\n",
      "   macro avg       0.70      0.74      0.71        42\n",
      "weighted avg       0.80      0.76      0.77        42\n",
      "\n",
      "\n",
      " confussion matrix:\n",
      " [[ 7  3]\n",
      " [ 7 25]]\n"
     ]
    }
   ],
   "source": [
    "best_estimator_poly = joblib.load(\"grid_polyROS.best_estimator2.pkl\")\n",
    "y_test_pred_poly = best_estimator_poly.predict(X_test_poly)\n",
    "\n",
    "from sklearn.metrics import precision_score, \\\n",
    "    recall_score, confusion_matrix, classification_report, \\\n",
    "    accuracy_score, f1_score\n",
    "\n",
    "print('Accuracy:', accuracy_score(y_test, y_test_pred_poly))\n",
    "print('F1 score:', f1_score(y_test, y_test_pred_poly))\n",
    "print('Recall:', recall_score(y_test, y_test_pred_poly))\n",
    "print('Precision:', precision_score(y_test, y_test_pred_poly))\n",
    "print('\\n clasification report:\\n', classification_report(y_test,y_test_pred_poly))\n",
    "print('\\n confussion matrix:\\n',confusion_matrix(y_test, y_test_pred_poly))"
   ]
  },
  {
   "cell_type": "code",
   "execution_count": 35,
   "id": "b6b6bc6f",
   "metadata": {},
   "outputs": [
    {
     "name": "stdout",
     "output_type": "stream",
     "text": [
      "Accuracy: 0.9923076923076923\n",
      "F1 score: 0.9922480620155039\n",
      "Recall: 0.9846153846153847\n",
      "Precision: 1.0\n",
      "\n",
      " clasification report:\n",
      "               precision    recall  f1-score   support\n",
      "\n",
      "           0       0.98      1.00      0.99       130\n",
      "           1       1.00      0.98      0.99       130\n",
      "\n",
      "    accuracy                           0.99       260\n",
      "   macro avg       0.99      0.99      0.99       260\n",
      "weighted avg       0.99      0.99      0.99       260\n",
      "\n",
      "\n",
      " confussion matrix:\n",
      " [[130   0]\n",
      " [  2 128]]\n"
     ]
    }
   ],
   "source": [
    "best_estimator_linear = joblib.load(\"grid_linearROS.best_estimator2.pkl\")\n",
    "y_train_pred_linear = best_estimator_linear.predict(X_train_linear)\n",
    "\n",
    "\n",
    "\n",
    "\n",
    "from sklearn.metrics import precision_score, \\\n",
    "    recall_score, confusion_matrix, classification_report, \\\n",
    "    accuracy_score, f1_score\n",
    "\n",
    "print('Accuracy:', accuracy_score(y_train, y_train_pred_linear))\n",
    "print('F1 score:', f1_score(y_train, y_train_pred_linear))\n",
    "print('Recall:', recall_score(y_train, y_train_pred_linear))\n",
    "print('Precision:', precision_score(y_train, y_train_pred_linear))\n",
    "print('\\n clasification report:\\n', classification_report(y_train,y_train_pred_linear))\n",
    "print('\\n confussion matrix:\\n',confusion_matrix(y_train, y_train_pred_linear))"
   ]
  },
  {
   "cell_type": "code",
   "execution_count": 36,
   "id": "d51d5fbe",
   "metadata": {},
   "outputs": [
    {
     "name": "stdout",
     "output_type": "stream",
     "text": [
      "Accuracy: 0.7857142857142857\n",
      "F1 score: 0.8571428571428571\n",
      "Recall: 0.84375\n",
      "Precision: 0.8709677419354839\n",
      "\n",
      " clasification report:\n",
      "               precision    recall  f1-score   support\n",
      "\n",
      "           0       0.55      0.60      0.57        10\n",
      "           1       0.87      0.84      0.86        32\n",
      "\n",
      "    accuracy                           0.79        42\n",
      "   macro avg       0.71      0.72      0.71        42\n",
      "weighted avg       0.79      0.79      0.79        42\n",
      "\n",
      "\n",
      " confussion matrix:\n",
      " [[ 6  4]\n",
      " [ 5 27]]\n"
     ]
    }
   ],
   "source": [
    "best_estimator_linear = joblib.load(\"grid_linearROS.best_estimator2.pkl\")\n",
    "y_test_pred_linear = best_estimator_linear.predict(X_test_linear)\n",
    "\n",
    "from sklearn.metrics import precision_score, \\\n",
    "    recall_score, confusion_matrix, classification_report, \\\n",
    "    accuracy_score, f1_score\n",
    "\n",
    "print('Accuracy:', accuracy_score(y_test, y_test_pred_linear))\n",
    "print('F1 score:', f1_score(y_test, y_test_pred_linear))\n",
    "print('Recall:', recall_score(y_test, y_test_pred_linear))\n",
    "print('Precision:', precision_score(y_test, y_test_pred_linear))\n",
    "print('\\n clasification report:\\n', classification_report(y_test,y_test_pred_linear))\n",
    "print('\\n confussion matrix:\\n',confusion_matrix(y_test, y_test_pred_linear))"
   ]
  },
  {
   "cell_type": "code",
   "execution_count": null,
   "id": "6788a058",
   "metadata": {},
   "outputs": [],
   "source": []
  }
 ],
 "metadata": {
  "kernelspec": {
   "display_name": "Python 3",
   "language": "python",
   "name": "python3"
  },
  "language_info": {
   "codemirror_mode": {
    "name": "ipython",
    "version": 3
   },
   "file_extension": ".py",
   "mimetype": "text/x-python",
   "name": "python",
   "nbconvert_exporter": "python",
   "pygments_lexer": "ipython3",
   "version": "3.9.1"
  }
 },
 "nbformat": 4,
 "nbformat_minor": 5
}
